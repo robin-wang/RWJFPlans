{
 "cells": [
  {
   "cell_type": "code",
   "execution_count": 35,
   "metadata": {},
   "outputs": [],
   "source": [
    "%matplotlib inline\n",
    "\n",
    "import pandas as pd\n",
    "import matplotlib.pyplot as plt\n",
    "import seaborn as sns\n",
    "import numpy as np\n",
    "\n",
    "sns.set(style=\"darkgrid\")"
   ]
  },
  {
   "cell_type": "markdown",
   "metadata": {},
   "source": [
    "#### Data Input 723 coulumns"
   ]
  },
  {
   "cell_type": "code",
   "execution_count": 2,
   "metadata": {
    "scrolled": true
   },
   "outputs": [
    {
     "data": {
      "text/html": [
       "<div>\n",
       "<style scoped>\n",
       "    .dataframe tbody tr th:only-of-type {\n",
       "        vertical-align: middle;\n",
       "    }\n",
       "\n",
       "    .dataframe tbody tr th {\n",
       "        vertical-align: top;\n",
       "    }\n",
       "\n",
       "    .dataframe thead th {\n",
       "        text-align: right;\n",
       "    }\n",
       "</style>\n",
       "<table border=\"1\" class=\"dataframe\">\n",
       "  <thead>\n",
       "    <tr style=\"text-align: right;\">\n",
       "      <th></th>\n",
       "      <th>UNIQUE</th>\n",
       "      <th>YEAR</th>\n",
       "      <th>DATECAPTURE</th>\n",
       "      <th>PLANID</th>\n",
       "      <th>ST</th>\n",
       "      <th>AREA</th>\n",
       "      <th>CARRIER</th>\n",
       "      <th>PLANNAME</th>\n",
       "      <th>METAL</th>\n",
       "      <th>PLANTYPE</th>\n",
       "      <th>...</th>\n",
       "      <th>TEHBInnFamilyMOOP</th>\n",
       "      <th>TEHBInnFamilyMOOP_TIERS</th>\n",
       "      <th>TEHBInnTier1FamilyMOOPA</th>\n",
       "      <th>TEHBInnTier2FamilyMOOPA</th>\n",
       "      <th>MEHBOutOfNetFamilyMOOP</th>\n",
       "      <th>DEHBOutOfNetFamilyMOOP</th>\n",
       "      <th>TEHBOutOfNetFamilyMOOP</th>\n",
       "      <th>MEHBOutOfNetFamilyMOOPA</th>\n",
       "      <th>DEHBOutOfNetFamilyMOOPA</th>\n",
       "      <th>TEHBOutOfNetFamilyMOOPA</th>\n",
       "    </tr>\n",
       "  </thead>\n",
       "  <tbody>\n",
       "    <tr>\n",
       "      <th>36106</th>\n",
       "      <td>NaN</td>\n",
       "      <td>2018</td>\n",
       "      <td>2018-01-15</td>\n",
       "      <td>11269WY0070018-04</td>\n",
       "      <td>WY</td>\n",
       "      <td>WY02</td>\n",
       "      <td>BlueCross BlueShield of Wyoming</td>\n",
       "      <td>BlueSelect Silver Value</td>\n",
       "      <td>Silver</td>\n",
       "      <td>1</td>\n",
       "      <td>...</td>\n",
       "      <td>1</td>\n",
       "      <td>1.0</td>\n",
       "      <td>11700.0</td>\n",
       "      <td>NaN</td>\n",
       "      <td>0</td>\n",
       "      <td>0</td>\n",
       "      <td>2</td>\n",
       "      <td>NaN</td>\n",
       "      <td>NaN</td>\n",
       "      <td>NaN</td>\n",
       "    </tr>\n",
       "    <tr>\n",
       "      <th>36107</th>\n",
       "      <td>NaN</td>\n",
       "      <td>2018</td>\n",
       "      <td>2018-01-15</td>\n",
       "      <td>11269WY0070018-04</td>\n",
       "      <td>WY</td>\n",
       "      <td>WY01</td>\n",
       "      <td>BlueCross BlueShield of Wyoming</td>\n",
       "      <td>BlueSelect Silver Value</td>\n",
       "      <td>Silver</td>\n",
       "      <td>1</td>\n",
       "      <td>...</td>\n",
       "      <td>1</td>\n",
       "      <td>1.0</td>\n",
       "      <td>11700.0</td>\n",
       "      <td>NaN</td>\n",
       "      <td>0</td>\n",
       "      <td>0</td>\n",
       "      <td>2</td>\n",
       "      <td>NaN</td>\n",
       "      <td>NaN</td>\n",
       "      <td>NaN</td>\n",
       "    </tr>\n",
       "    <tr>\n",
       "      <th>36108</th>\n",
       "      <td>NaN</td>\n",
       "      <td>2018</td>\n",
       "      <td>2018-01-15</td>\n",
       "      <td>11269WY0070013</td>\n",
       "      <td>WY</td>\n",
       "      <td>WY01</td>\n",
       "      <td>BlueCross BlueShield of Wyoming</td>\n",
       "      <td>BlueSelect Gold HealthPlus</td>\n",
       "      <td>Gold</td>\n",
       "      <td>1</td>\n",
       "      <td>...</td>\n",
       "      <td>1</td>\n",
       "      <td>1.0</td>\n",
       "      <td>14700.0</td>\n",
       "      <td>NaN</td>\n",
       "      <td>0</td>\n",
       "      <td>0</td>\n",
       "      <td>2</td>\n",
       "      <td>NaN</td>\n",
       "      <td>NaN</td>\n",
       "      <td>NaN</td>\n",
       "    </tr>\n",
       "    <tr>\n",
       "      <th>36109</th>\n",
       "      <td>NaN</td>\n",
       "      <td>2018</td>\n",
       "      <td>2018-01-15</td>\n",
       "      <td>11269WY0070013</td>\n",
       "      <td>WY</td>\n",
       "      <td>WY02</td>\n",
       "      <td>BlueCross BlueShield of Wyoming</td>\n",
       "      <td>BlueSelect Gold HealthPlus</td>\n",
       "      <td>Gold</td>\n",
       "      <td>1</td>\n",
       "      <td>...</td>\n",
       "      <td>1</td>\n",
       "      <td>1.0</td>\n",
       "      <td>14700.0</td>\n",
       "      <td>NaN</td>\n",
       "      <td>0</td>\n",
       "      <td>0</td>\n",
       "      <td>2</td>\n",
       "      <td>NaN</td>\n",
       "      <td>NaN</td>\n",
       "      <td>NaN</td>\n",
       "    </tr>\n",
       "    <tr>\n",
       "      <th>36110</th>\n",
       "      <td>NaN</td>\n",
       "      <td>2018</td>\n",
       "      <td>2018-01-15</td>\n",
       "      <td>11269WY0070013</td>\n",
       "      <td>WY</td>\n",
       "      <td>WY03</td>\n",
       "      <td>BlueCross BlueShield of Wyoming</td>\n",
       "      <td>BlueSelect Gold HealthPlus</td>\n",
       "      <td>Gold</td>\n",
       "      <td>1</td>\n",
       "      <td>...</td>\n",
       "      <td>1</td>\n",
       "      <td>1.0</td>\n",
       "      <td>14700.0</td>\n",
       "      <td>NaN</td>\n",
       "      <td>0</td>\n",
       "      <td>0</td>\n",
       "      <td>2</td>\n",
       "      <td>NaN</td>\n",
       "      <td>NaN</td>\n",
       "      <td>NaN</td>\n",
       "    </tr>\n",
       "  </tbody>\n",
       "</table>\n",
       "<p>5 rows × 723 columns</p>\n",
       "</div>"
      ],
      "text/plain": [
       "       UNIQUE  YEAR DATECAPTURE             PLANID  ST  AREA  \\\n",
       "36106     NaN  2018  2018-01-15  11269WY0070018-04  WY  WY02   \n",
       "36107     NaN  2018  2018-01-15  11269WY0070018-04  WY  WY01   \n",
       "36108     NaN  2018  2018-01-15     11269WY0070013  WY  WY01   \n",
       "36109     NaN  2018  2018-01-15     11269WY0070013  WY  WY02   \n",
       "36110     NaN  2018  2018-01-15     11269WY0070013  WY  WY03   \n",
       "\n",
       "                               CARRIER                    PLANNAME   METAL  \\\n",
       "36106  BlueCross BlueShield of Wyoming     BlueSelect Silver Value  Silver   \n",
       "36107  BlueCross BlueShield of Wyoming     BlueSelect Silver Value  Silver   \n",
       "36108  BlueCross BlueShield of Wyoming  BlueSelect Gold HealthPlus    Gold   \n",
       "36109  BlueCross BlueShield of Wyoming  BlueSelect Gold HealthPlus    Gold   \n",
       "36110  BlueCross BlueShield of Wyoming  BlueSelect Gold HealthPlus    Gold   \n",
       "\n",
       "       PLANTYPE           ...             TEHBInnFamilyMOOP  \\\n",
       "36106         1           ...                             1   \n",
       "36107         1           ...                             1   \n",
       "36108         1           ...                             1   \n",
       "36109         1           ...                             1   \n",
       "36110         1           ...                             1   \n",
       "\n",
       "       TEHBInnFamilyMOOP_TIERS  TEHBInnTier1FamilyMOOPA  \\\n",
       "36106                      1.0                  11700.0   \n",
       "36107                      1.0                  11700.0   \n",
       "36108                      1.0                  14700.0   \n",
       "36109                      1.0                  14700.0   \n",
       "36110                      1.0                  14700.0   \n",
       "\n",
       "       TEHBInnTier2FamilyMOOPA  MEHBOutOfNetFamilyMOOP  \\\n",
       "36106                      NaN                       0   \n",
       "36107                      NaN                       0   \n",
       "36108                      NaN                       0   \n",
       "36109                      NaN                       0   \n",
       "36110                      NaN                       0   \n",
       "\n",
       "       DEHBOutOfNetFamilyMOOP  TEHBOutOfNetFamilyMOOP  \\\n",
       "36106                       0                       2   \n",
       "36107                       0                       2   \n",
       "36108                       0                       2   \n",
       "36109                       0                       2   \n",
       "36110                       0                       2   \n",
       "\n",
       "       MEHBOutOfNetFamilyMOOPA  DEHBOutOfNetFamilyMOOPA  \\\n",
       "36106                      NaN                      NaN   \n",
       "36107                      NaN                      NaN   \n",
       "36108                      NaN                      NaN   \n",
       "36109                      NaN                      NaN   \n",
       "36110                      NaN                      NaN   \n",
       "\n",
       "       TEHBOutOfNetFamilyMOOPA  \n",
       "36106                      NaN  \n",
       "36107                      NaN  \n",
       "36108                      NaN  \n",
       "36109                      NaN  \n",
       "36110                      NaN  \n",
       "\n",
       "[5 rows x 723 columns]"
      ]
     },
     "execution_count": 2,
     "metadata": {},
     "output_type": "execute_result"
    }
   ],
   "source": [
    "df = pd.read_csv('D:\\Jupyter\\plans.csv')\n",
    "df.head()\n",
    "df.tail()"
   ]
  },
  {
   "cell_type": "code",
   "execution_count": 3,
   "metadata": {
    "scrolled": true
   },
   "outputs": [
    {
     "data": {
      "text/plain": [
       "UNIQUE                         float64\n",
       "YEAR                             int64\n",
       "DATECAPTURE                     object\n",
       "PLANID                          object\n",
       "ST                              object\n",
       "AREA                            object\n",
       "CARRIER                         object\n",
       "PLANNAME                        object\n",
       "METAL                           object\n",
       "PLANTYPE                         int64\n",
       "PREMIC                         float64\n",
       "PREMI27                        float64\n",
       "PREMI50                        float64\n",
       "PREMI2C30                      float64\n",
       "PREMC2C30                      float64\n",
       "CSR                              int64\n",
       "PLANMARKET                       int64\n",
       "CHILDONLY                        int64\n",
       "NETWORKID                        int64\n",
       "actively_marketed                 bool\n",
       "MULTITIERED                      int64\n",
       "AB_LIMITED                       int64\n",
       "AB_CopayInn_TIERS                int64\n",
       "AB_CopayInnTier1Complex          int64\n",
       "AB_CopayInnTier1                 int64\n",
       "AB_CopayInnTier1A              float64\n",
       "AB_CopayInnTier2Complex          int64\n",
       "AB_CopayInnTier2                 int64\n",
       "AB_CopayInnTier2A              float64\n",
       "AB_CoinsInn_TIERS                int64\n",
       "                                ...   \n",
       "DEHBInnTier1IndividualMOOPA    float64\n",
       "DEHBInnTier2IndividualMOOPA    float64\n",
       "TEHBInnIndividualMOOP            int64\n",
       "TEHBInnIndividualMOOP_TIERS    float64\n",
       "TEHBInnTier1IndividualMOOPA    float64\n",
       "TEHBInnTier2IndividualMOOPA    float64\n",
       "MEHBOutOfNetIndividualMOOP       int64\n",
       "DEHBOutOfNetIndividualMOOP       int64\n",
       "TEHBOutOfNetIndividualMOOP       int64\n",
       "MEHBOutOfNetIndividualMOOPA    float64\n",
       "DEHBOutOfNetIndividualMOOPA    float64\n",
       "TEHBOutOfNetIndividualMOOPA    float64\n",
       "MEHBInnFamilyMOOP                int64\n",
       "MEHBInnFamilyMOOP_TIERS        float64\n",
       "MEHBInnTier1FamilyMOOPA        float64\n",
       "MEHBInnTier2FamilyMOOPA        float64\n",
       "DEHBInnFamilyMOOP                int64\n",
       "DEHBInnFamilyMOOP_TIERS        float64\n",
       "DEHBInnTier1FamilyMOOPA        float64\n",
       "DEHBInnTier2FamilyMOOPA        float64\n",
       "TEHBInnFamilyMOOP                int64\n",
       "TEHBInnFamilyMOOP_TIERS        float64\n",
       "TEHBInnTier1FamilyMOOPA        float64\n",
       "TEHBInnTier2FamilyMOOPA        float64\n",
       "MEHBOutOfNetFamilyMOOP           int64\n",
       "DEHBOutOfNetFamilyMOOP           int64\n",
       "TEHBOutOfNetFamilyMOOP           int64\n",
       "MEHBOutOfNetFamilyMOOPA        float64\n",
       "DEHBOutOfNetFamilyMOOPA        float64\n",
       "TEHBOutOfNetFamilyMOOPA        float64\n",
       "Length: 723, dtype: object"
      ]
     },
     "execution_count": 3,
     "metadata": {},
     "output_type": "execute_result"
    }
   ],
   "source": [
    "df.shape\n",
    "df.dtypes"
   ]
  },
  {
   "cell_type": "markdown",
   "metadata": {},
   "source": [
    "#### Child only Plans (preserving CSR plans)"
   ]
  },
  {
   "cell_type": "code",
   "execution_count": 4,
   "metadata": {},
   "outputs": [
    {
     "data": {
      "text/plain": [
       "CHILDONLY\n",
       "False    35542\n",
       "True       569\n",
       "Name: CHILDONLY, dtype: int64"
      ]
     },
     "execution_count": 4,
     "metadata": {},
     "output_type": "execute_result"
    }
   ],
   "source": [
    "df.groupby(df['CHILDONLY']==1)['CHILDONLY'].count()"
   ]
  },
  {
   "cell_type": "code",
   "execution_count": 5,
   "metadata": {
    "scrolled": true
   },
   "outputs": [
    {
     "data": {
      "text/plain": [
       "35542"
      ]
     },
     "execution_count": 5,
     "metadata": {},
     "output_type": "execute_result"
    }
   ],
   "source": [
    "df = df[df.CHILDONLY != 1]\n",
    "len(df)"
   ]
  },
  {
   "cell_type": "markdown",
   "metadata": {},
   "source": [
    "#### Select Columns: Preliminary Analysis, disregarding benefits columns"
   ]
  },
  {
   "cell_type": "code",
   "execution_count": 6,
   "metadata": {
    "scrolled": true
   },
   "outputs": [
    {
     "data": {
      "text/html": [
       "<div>\n",
       "<style scoped>\n",
       "    .dataframe tbody tr th:only-of-type {\n",
       "        vertical-align: middle;\n",
       "    }\n",
       "\n",
       "    .dataframe tbody tr th {\n",
       "        vertical-align: top;\n",
       "    }\n",
       "\n",
       "    .dataframe thead th {\n",
       "        text-align: right;\n",
       "    }\n",
       "</style>\n",
       "<table border=\"1\" class=\"dataframe\">\n",
       "  <thead>\n",
       "    <tr style=\"text-align: right;\">\n",
       "      <th>col_0</th>\n",
       "      <th>count</th>\n",
       "    </tr>\n",
       "    <tr>\n",
       "      <th>MULTITIERED</th>\n",
       "      <th></th>\n",
       "    </tr>\n",
       "  </thead>\n",
       "  <tbody>\n",
       "    <tr>\n",
       "      <th>0</th>\n",
       "      <td>33640</td>\n",
       "    </tr>\n",
       "    <tr>\n",
       "      <th>1</th>\n",
       "      <td>1902</td>\n",
       "    </tr>\n",
       "  </tbody>\n",
       "</table>\n",
       "</div>"
      ],
      "text/plain": [
       "col_0        count\n",
       "MULTITIERED       \n",
       "0            33640\n",
       "1             1902"
      ]
     },
     "execution_count": 6,
     "metadata": {},
     "output_type": "execute_result"
    }
   ],
   "source": [
    "pd.crosstab(index=df[\"MULTITIERED\"],columns=\"count\") "
   ]
  },
  {
   "cell_type": "code",
   "execution_count": 7,
   "metadata": {},
   "outputs": [],
   "source": [
    "df = df.rename(columns={\"MULTITIERED\": \"TIERED\"})"
   ]
  },
  {
   "cell_type": "code",
   "execution_count": 8,
   "metadata": {},
   "outputs": [
    {
     "data": {
      "text/plain": [
       "Index(['AB_LIMITED', 'AB_CopayInn_TIERS', 'AB_CopayInnTier1Complex',\n",
       "       'AB_CopayInnTier1', 'AB_CopayInnTier1A', 'AB_CopayInnTier2Complex',\n",
       "       'AB_CopayInnTier2', 'AB_CopayInnTier2A', 'AB_CoinsInn_TIERS',\n",
       "       'AB_CoinsInnTier1Complex', 'AB_CoinsInnTier1', 'AB_CoinsInnTier1A',\n",
       "       'AB_CoinsInnTier2Complex', 'AB_CoinsInnTier2', 'AB_CoinsInnTier2A',\n",
       "       'AB_CopayOutofNetComplex', 'AB_CopayOutofNet', 'AB_CopayOutofNetA',\n",
       "       'AB_CoinsOutofNetComplex', 'AB_CoinsOutofNet', 'AB_CoinsOutofNetA'],\n",
       "      dtype='object')"
      ]
     },
     "execution_count": 8,
     "metadata": {},
     "output_type": "execute_result"
    }
   ],
   "source": [
    "df.columns[df.columns.str.contains('AB_.*')]"
   ]
  },
  {
   "cell_type": "code",
   "execution_count": 9,
   "metadata": {},
   "outputs": [
    {
     "data": {
      "text/plain": [
       "Index(['UC_LIMITED', 'UC_CopayInn_TIERS', 'UC_CopayInnTier1Complex',\n",
       "       'UC_CopayInnTier1', 'UC_CopayInnTier1A', 'UC_CopayInnTier2Complex',\n",
       "       'UC_CopayInnTier2', 'UC_CopayInnTier2A', 'UC_CoinsInn_TIERS',\n",
       "       'UC_CoinsInnTier1Complex', 'UC_CoinsInnTier1', 'UC_CoinsInnTier1A',\n",
       "       'UC_CoinsInnTier2Complex', 'UC_CoinsInnTier2', 'UC_CoinsInnTier2A',\n",
       "       'UC_CopayOutofNetComplex', 'UC_CopayOutofNet', 'UC_CopayOutofNetA',\n",
       "       'UC_CoinsOutofNetComplex', 'UC_CoinsOutofNet', 'UC_CoinsOutofNetA'],\n",
       "      dtype='object')"
      ]
     },
     "execution_count": 9,
     "metadata": {},
     "output_type": "execute_result"
    }
   ],
   "source": [
    "df.columns[df.columns.str.contains('UC_.*')]"
   ]
  },
  {
   "cell_type": "code",
   "execution_count": 10,
   "metadata": {},
   "outputs": [
    {
     "data": {
      "text/plain": [
       "21"
      ]
     },
     "execution_count": 10,
     "metadata": {},
     "output_type": "execute_result"
    }
   ],
   "source": [
    "df.columns.get_loc(\"AB_LIMITED\")"
   ]
  },
  {
   "cell_type": "code",
   "execution_count": 11,
   "metadata": {},
   "outputs": [
    {
     "data": {
      "text/plain": [
       "650"
      ]
     },
     "execution_count": 11,
     "metadata": {},
     "output_type": "execute_result"
    }
   ],
   "source": [
    "df.columns.get_loc(\"UC_CoinsOutofNetA\")"
   ]
  },
  {
   "cell_type": "code",
   "execution_count": 12,
   "metadata": {},
   "outputs": [],
   "source": [
    "df.drop(df.iloc[:,21:651], axis=1, inplace=True)"
   ]
  },
  {
   "cell_type": "code",
   "execution_count": 13,
   "metadata": {
    "scrolled": true
   },
   "outputs": [
    {
     "data": {
      "text/plain": [
       "UNIQUE                         float64\n",
       "YEAR                             int64\n",
       "DATECAPTURE                     object\n",
       "PLANID                          object\n",
       "ST                              object\n",
       "AREA                            object\n",
       "CARRIER                         object\n",
       "PLANNAME                        object\n",
       "METAL                           object\n",
       "PLANTYPE                         int64\n",
       "PREMIC                         float64\n",
       "PREMI27                        float64\n",
       "PREMI50                        float64\n",
       "PREMI2C30                      float64\n",
       "PREMC2C30                      float64\n",
       "CSR                              int64\n",
       "PLANMARKET                       int64\n",
       "CHILDONLY                        int64\n",
       "NETWORKID                        int64\n",
       "actively_marketed                 bool\n",
       "TIERED                           int64\n",
       "MEHBDedInnIndividual             int64\n",
       "MEHBDedInnIndividual_TIERS     float64\n",
       "MEHBDedInnTier1IndividualA     float64\n",
       "MEHBDedInnTier2IndividualA     float64\n",
       "DEHBDedInnIndividual             int64\n",
       "DEHBDedInnIndividual_TIERS     float64\n",
       "DEHBDedInnTier1IndividualA     float64\n",
       "DEHBDedInnTier2IndividualA     float64\n",
       "TEHBDedInnIndividual             int64\n",
       "                                ...   \n",
       "DEHBInnTier1IndividualMOOPA    float64\n",
       "DEHBInnTier2IndividualMOOPA    float64\n",
       "TEHBInnIndividualMOOP            int64\n",
       "TEHBInnIndividualMOOP_TIERS    float64\n",
       "TEHBInnTier1IndividualMOOPA    float64\n",
       "TEHBInnTier2IndividualMOOPA    float64\n",
       "MEHBOutOfNetIndividualMOOP       int64\n",
       "DEHBOutOfNetIndividualMOOP       int64\n",
       "TEHBOutOfNetIndividualMOOP       int64\n",
       "MEHBOutOfNetIndividualMOOPA    float64\n",
       "DEHBOutOfNetIndividualMOOPA    float64\n",
       "TEHBOutOfNetIndividualMOOPA    float64\n",
       "MEHBInnFamilyMOOP                int64\n",
       "MEHBInnFamilyMOOP_TIERS        float64\n",
       "MEHBInnTier1FamilyMOOPA        float64\n",
       "MEHBInnTier2FamilyMOOPA        float64\n",
       "DEHBInnFamilyMOOP                int64\n",
       "DEHBInnFamilyMOOP_TIERS        float64\n",
       "DEHBInnTier1FamilyMOOPA        float64\n",
       "DEHBInnTier2FamilyMOOPA        float64\n",
       "TEHBInnFamilyMOOP                int64\n",
       "TEHBInnFamilyMOOP_TIERS        float64\n",
       "TEHBInnTier1FamilyMOOPA        float64\n",
       "TEHBInnTier2FamilyMOOPA        float64\n",
       "MEHBOutOfNetFamilyMOOP           int64\n",
       "DEHBOutOfNetFamilyMOOP           int64\n",
       "TEHBOutOfNetFamilyMOOP           int64\n",
       "MEHBOutOfNetFamilyMOOPA        float64\n",
       "DEHBOutOfNetFamilyMOOPA        float64\n",
       "TEHBOutOfNetFamilyMOOPA        float64\n",
       "Length: 93, dtype: object"
      ]
     },
     "execution_count": 13,
     "metadata": {},
     "output_type": "execute_result"
    }
   ],
   "source": [
    "df.shape\n",
    "df.dtypes"
   ]
  },
  {
   "cell_type": "code",
   "execution_count": 14,
   "metadata": {},
   "outputs": [],
   "source": [
    "df = df.drop(['UNIQUE', 'YEAR', 'DATECAPTURE','PREMIC','PREMI2C30','PREMC2C30',\n",
    "         'CHILDONLY','actively_marketed'], axis=1)"
   ]
  },
  {
   "cell_type": "code",
   "execution_count": 15,
   "metadata": {
    "scrolled": true
   },
   "outputs": [
    {
     "data": {
      "text/plain": [
       "PLANID                          object\n",
       "ST                              object\n",
       "AREA                            object\n",
       "CARRIER                         object\n",
       "PLANNAME                        object\n",
       "METAL                           object\n",
       "PLANTYPE                         int64\n",
       "PREMI27                        float64\n",
       "PREMI50                        float64\n",
       "CSR                              int64\n",
       "PLANMARKET                       int64\n",
       "NETWORKID                        int64\n",
       "TIERED                           int64\n",
       "MEHBDedInnIndividual             int64\n",
       "MEHBDedInnIndividual_TIERS     float64\n",
       "MEHBDedInnTier1IndividualA     float64\n",
       "MEHBDedInnTier2IndividualA     float64\n",
       "DEHBDedInnIndividual             int64\n",
       "DEHBDedInnIndividual_TIERS     float64\n",
       "DEHBDedInnTier1IndividualA     float64\n",
       "DEHBDedInnTier2IndividualA     float64\n",
       "TEHBDedInnIndividual             int64\n",
       "TEHBDedInnIndividual_TIERS     float64\n",
       "TEHBDedInnTier1IndividualA     float64\n",
       "TEHBDedInnTier2IndividualA     float64\n",
       "MEHBDedOutOfNetIndividual        int64\n",
       "DEHBDedOutOfNetIndividual        int64\n",
       "TEHBDedOutOfNetIndividual        int64\n",
       "MEHBDedOutOfNetIndividualA     float64\n",
       "DEHBDedOutOfNetIndividualA     float64\n",
       "                                ...   \n",
       "DEHBInnTier1IndividualMOOPA    float64\n",
       "DEHBInnTier2IndividualMOOPA    float64\n",
       "TEHBInnIndividualMOOP            int64\n",
       "TEHBInnIndividualMOOP_TIERS    float64\n",
       "TEHBInnTier1IndividualMOOPA    float64\n",
       "TEHBInnTier2IndividualMOOPA    float64\n",
       "MEHBOutOfNetIndividualMOOP       int64\n",
       "DEHBOutOfNetIndividualMOOP       int64\n",
       "TEHBOutOfNetIndividualMOOP       int64\n",
       "MEHBOutOfNetIndividualMOOPA    float64\n",
       "DEHBOutOfNetIndividualMOOPA    float64\n",
       "TEHBOutOfNetIndividualMOOPA    float64\n",
       "MEHBInnFamilyMOOP                int64\n",
       "MEHBInnFamilyMOOP_TIERS        float64\n",
       "MEHBInnTier1FamilyMOOPA        float64\n",
       "MEHBInnTier2FamilyMOOPA        float64\n",
       "DEHBInnFamilyMOOP                int64\n",
       "DEHBInnFamilyMOOP_TIERS        float64\n",
       "DEHBInnTier1FamilyMOOPA        float64\n",
       "DEHBInnTier2FamilyMOOPA        float64\n",
       "TEHBInnFamilyMOOP                int64\n",
       "TEHBInnFamilyMOOP_TIERS        float64\n",
       "TEHBInnTier1FamilyMOOPA        float64\n",
       "TEHBInnTier2FamilyMOOPA        float64\n",
       "MEHBOutOfNetFamilyMOOP           int64\n",
       "DEHBOutOfNetFamilyMOOP           int64\n",
       "TEHBOutOfNetFamilyMOOP           int64\n",
       "MEHBOutOfNetFamilyMOOPA        float64\n",
       "DEHBOutOfNetFamilyMOOPA        float64\n",
       "TEHBOutOfNetFamilyMOOPA        float64\n",
       "Length: 85, dtype: object"
      ]
     },
     "execution_count": 15,
     "metadata": {},
     "output_type": "execute_result"
    }
   ],
   "source": [
    "df.dtypes"
   ]
  },
  {
   "cell_type": "code",
   "execution_count": 16,
   "metadata": {
    "scrolled": false
   },
   "outputs": [
    {
     "data": {
      "text/plain": [
       "Index(['MEHBDedInnIndividual', 'MEHBDedInnIndividual_TIERS',\n",
       "       'DEHBDedInnIndividual', 'DEHBDedInnIndividual_TIERS',\n",
       "       'TEHBDedInnIndividual', 'TEHBDedInnIndividual_TIERS',\n",
       "       'MEHBDedOutOfNetIndividual', 'DEHBDedOutOfNetIndividual',\n",
       "       'TEHBDedOutOfNetIndividual', 'MEHBDedOutOfNetIndividualA',\n",
       "       'DEHBDedOutOfNetIndividualA', 'TEHBDedOutOfNetIndividualA'],\n",
       "      dtype='object')"
      ]
     },
     "execution_count": 16,
     "metadata": {},
     "output_type": "execute_result"
    }
   ],
   "source": [
    "df.columns[df.columns.str.contains('DedInnIndividual|DedOutOfNetIndividual')]"
   ]
  },
  {
   "cell_type": "code",
   "execution_count": 24,
   "metadata": {},
   "outputs": [
    {
     "data": {
      "text/plain": [
       "Index(['MEHBDedInnFamily', 'MEHBDedInnFamily_TIERS', 'DEHBDedInnFamily',\n",
       "       'DEHBDedInnFamily_TIERS', 'TEHBDedInnFamily', 'TEHBDedInnFamily_TIERS',\n",
       "       'MEHBDedOutOfNetFamily', 'DEHBDedOutOfNetFamily',\n",
       "       'TEHBDedOutOfNetFamily', 'MEHBDedOutOfNetFamilyA',\n",
       "       'DEHBDedOutOfNetFamilyA', 'TEHBDedOutOfNetFamilyA'],\n",
       "      dtype='object')"
      ]
     },
     "execution_count": 24,
     "metadata": {},
     "output_type": "execute_result"
    }
   ],
   "source": [
    "df.columns[df.columns.str.contains('DedInnFamily|DedOutOfNetFamily')]"
   ]
  },
  {
   "cell_type": "code",
   "execution_count": 18,
   "metadata": {
    "scrolled": false
   },
   "outputs": [
    {
     "data": {
      "text/html": [
       "<div>\n",
       "<style scoped>\n",
       "    .dataframe tbody tr th:only-of-type {\n",
       "        vertical-align: middle;\n",
       "    }\n",
       "\n",
       "    .dataframe tbody tr th {\n",
       "        vertical-align: top;\n",
       "    }\n",
       "\n",
       "    .dataframe thead th {\n",
       "        text-align: right;\n",
       "    }\n",
       "</style>\n",
       "<table border=\"1\" class=\"dataframe\">\n",
       "  <thead>\n",
       "    <tr style=\"text-align: right;\">\n",
       "      <th>MEHBDedInnIndividual</th>\n",
       "      <th>0</th>\n",
       "      <th>1</th>\n",
       "      <th>99</th>\n",
       "    </tr>\n",
       "    <tr>\n",
       "      <th>TEHBDedInnIndividual</th>\n",
       "      <th></th>\n",
       "      <th></th>\n",
       "      <th></th>\n",
       "    </tr>\n",
       "  </thead>\n",
       "  <tbody>\n",
       "    <tr>\n",
       "      <th>0</th>\n",
       "      <td>0</td>\n",
       "      <td>10742</td>\n",
       "      <td>24</td>\n",
       "    </tr>\n",
       "    <tr>\n",
       "      <th>1</th>\n",
       "      <td>24776</td>\n",
       "      <td>0</td>\n",
       "      <td>0</td>\n",
       "    </tr>\n",
       "  </tbody>\n",
       "</table>\n",
       "</div>"
      ],
      "text/plain": [
       "MEHBDedInnIndividual     0      1   99\n",
       "TEHBDedInnIndividual                  \n",
       "0                         0  10742  24\n",
       "1                     24776      0   0"
      ]
     },
     "execution_count": 18,
     "metadata": {},
     "output_type": "execute_result"
    }
   ],
   "source": [
    "pd.crosstab(df.TEHBDedInnIndividual,df.MEHBDedInnIndividual)"
   ]
  },
  {
   "cell_type": "code",
   "execution_count": 19,
   "metadata": {
    "scrolled": true
   },
   "outputs": [
    {
     "data": {
      "text/html": [
       "<div>\n",
       "<style scoped>\n",
       "    .dataframe tbody tr th:only-of-type {\n",
       "        vertical-align: middle;\n",
       "    }\n",
       "\n",
       "    .dataframe tbody tr th {\n",
       "        vertical-align: top;\n",
       "    }\n",
       "\n",
       "    .dataframe thead th {\n",
       "        text-align: right;\n",
       "    }\n",
       "</style>\n",
       "<table border=\"1\" class=\"dataframe\">\n",
       "  <thead>\n",
       "    <tr style=\"text-align: right;\">\n",
       "      <th>DEHBDedInnIndividual</th>\n",
       "      <th>0</th>\n",
       "      <th>1</th>\n",
       "    </tr>\n",
       "    <tr>\n",
       "      <th>TEHBDedInnIndividual</th>\n",
       "      <th></th>\n",
       "      <th></th>\n",
       "    </tr>\n",
       "  </thead>\n",
       "  <tbody>\n",
       "    <tr>\n",
       "      <th>0</th>\n",
       "      <td>0</td>\n",
       "      <td>10766</td>\n",
       "    </tr>\n",
       "    <tr>\n",
       "      <th>1</th>\n",
       "      <td>24776</td>\n",
       "      <td>0</td>\n",
       "    </tr>\n",
       "  </tbody>\n",
       "</table>\n",
       "</div>"
      ],
      "text/plain": [
       "DEHBDedInnIndividual      0      1\n",
       "TEHBDedInnIndividual              \n",
       "0                         0  10766\n",
       "1                     24776      0"
      ]
     },
     "execution_count": 19,
     "metadata": {},
     "output_type": "execute_result"
    }
   ],
   "source": [
    "pd.crosstab(df.TEHBDedInnIndividual,df.DEHBDedInnIndividual)"
   ]
  },
  {
   "cell_type": "code",
   "execution_count": 40,
   "metadata": {
    "scrolled": false
   },
   "outputs": [
    {
     "data": {
      "text/html": [
       "<div>\n",
       "<style scoped>\n",
       "    .dataframe tbody tr th:only-of-type {\n",
       "        vertical-align: middle;\n",
       "    }\n",
       "\n",
       "    .dataframe tbody tr th {\n",
       "        vertical-align: top;\n",
       "    }\n",
       "\n",
       "    .dataframe thead th {\n",
       "        text-align: right;\n",
       "    }\n",
       "</style>\n",
       "<table border=\"1\" class=\"dataframe\">\n",
       "  <thead>\n",
       "    <tr style=\"text-align: right;\">\n",
       "      <th>DEHBDedInnIndividual_TIERS</th>\n",
       "      <th>1.0</th>\n",
       "      <th>2.0</th>\n",
       "    </tr>\n",
       "    <tr>\n",
       "      <th>MEHBDedInnIndividual_TIERS</th>\n",
       "      <th></th>\n",
       "      <th></th>\n",
       "    </tr>\n",
       "  </thead>\n",
       "  <tbody>\n",
       "    <tr>\n",
       "      <th>1.0</th>\n",
       "      <td>10640</td>\n",
       "      <td>0</td>\n",
       "    </tr>\n",
       "    <tr>\n",
       "      <th>2.0</th>\n",
       "      <td>0</td>\n",
       "      <td>126</td>\n",
       "    </tr>\n",
       "  </tbody>\n",
       "</table>\n",
       "</div>"
      ],
      "text/plain": [
       "DEHBDedInnIndividual_TIERS    1.0  2.0\n",
       "MEHBDedInnIndividual_TIERS            \n",
       "1.0                         10640    0\n",
       "2.0                             0  126"
      ]
     },
     "execution_count": 40,
     "metadata": {},
     "output_type": "execute_result"
    }
   ],
   "source": [
    "pd.crosstab(df.MEHBDedInnIndividual_TIERS, df.DEHBDedInnIndividual_TIERS)"
   ]
  },
  {
   "cell_type": "code",
   "execution_count": 43,
   "metadata": {},
   "outputs": [],
   "source": [
    "#recode\n",
    "df['Type_Ded_INN_Ind'] = np.where(df['TEHBDedInnIndividual']==1, 1, 0)\n"
   ]
  },
  {
   "cell_type": "code",
   "execution_count": 45,
   "metadata": {},
   "outputs": [],
   "source": [
    "df['Tier_Ded_INN_Ind'] = df['MEHBDedInnIndividual_TIERS']"
   ]
  },
  {
   "cell_type": "code",
   "execution_count": 46,
   "metadata": {
    "scrolled": true
   },
   "outputs": [
    {
     "name": "stderr",
     "output_type": "stream",
     "text": [
      "D:\\Users\\RWang\\AppData\\Local\\Continuum\\anaconda3\\lib\\site-packages\\ipykernel_launcher.py:1: SettingWithCopyWarning: \n",
      "A value is trying to be set on a copy of a slice from a DataFrame\n",
      "\n",
      "See the caveats in the documentation: http://pandas.pydata.org/pandas-docs/stable/indexing.html#indexing-view-versus-copy\n",
      "  \"\"\"Entry point for launching an IPython kernel.\n"
     ]
    }
   ],
   "source": [
    "df['Tier_Ded_INN_Ind'][df['Type_Ded_INN_Ind']==1] = df['TEHBDedInnIndividual_TIERS']"
   ]
  },
  {
   "cell_type": "code",
   "execution_count": 20,
   "metadata": {
    "scrolled": false
   },
   "outputs": [
    {
     "data": {
      "text/html": [
       "<div>\n",
       "<style scoped>\n",
       "    .dataframe tbody tr th:only-of-type {\n",
       "        vertical-align: middle;\n",
       "    }\n",
       "\n",
       "    .dataframe tbody tr th {\n",
       "        vertical-align: top;\n",
       "    }\n",
       "\n",
       "    .dataframe thead th {\n",
       "        text-align: right;\n",
       "    }\n",
       "</style>\n",
       "<table border=\"1\" class=\"dataframe\">\n",
       "  <thead>\n",
       "    <tr style=\"text-align: right;\">\n",
       "      <th>MEHBDedInnFamily</th>\n",
       "      <th>0</th>\n",
       "      <th>1</th>\n",
       "      <th>99</th>\n",
       "    </tr>\n",
       "    <tr>\n",
       "      <th>TEHBDedInnFamily</th>\n",
       "      <th></th>\n",
       "      <th></th>\n",
       "      <th></th>\n",
       "    </tr>\n",
       "  </thead>\n",
       "  <tbody>\n",
       "    <tr>\n",
       "      <th>0</th>\n",
       "      <td>0</td>\n",
       "      <td>10505</td>\n",
       "      <td>213</td>\n",
       "    </tr>\n",
       "    <tr>\n",
       "      <th>1</th>\n",
       "      <td>24824</td>\n",
       "      <td>0</td>\n",
       "      <td>0</td>\n",
       "    </tr>\n",
       "  </tbody>\n",
       "</table>\n",
       "</div>"
      ],
      "text/plain": [
       "MEHBDedInnFamily     0      1    99\n",
       "TEHBDedInnFamily                   \n",
       "0                     0  10505  213\n",
       "1                 24824      0    0"
      ]
     },
     "execution_count": 20,
     "metadata": {},
     "output_type": "execute_result"
    }
   ],
   "source": [
    "pd.crosstab(df.TEHBDedInnFamily,df.MEHBDedInnFamily)"
   ]
  },
  {
   "cell_type": "code",
   "execution_count": 21,
   "metadata": {},
   "outputs": [
    {
     "data": {
      "text/html": [
       "<div>\n",
       "<style scoped>\n",
       "    .dataframe tbody tr th:only-of-type {\n",
       "        vertical-align: middle;\n",
       "    }\n",
       "\n",
       "    .dataframe tbody tr th {\n",
       "        vertical-align: top;\n",
       "    }\n",
       "\n",
       "    .dataframe thead th {\n",
       "        text-align: right;\n",
       "    }\n",
       "</style>\n",
       "<table border=\"1\" class=\"dataframe\">\n",
       "  <thead>\n",
       "    <tr style=\"text-align: right;\">\n",
       "      <th>DEHBDedInnFamily</th>\n",
       "      <th>0</th>\n",
       "      <th>1</th>\n",
       "    </tr>\n",
       "    <tr>\n",
       "      <th>TEHBDedInnFamily</th>\n",
       "      <th></th>\n",
       "      <th></th>\n",
       "    </tr>\n",
       "  </thead>\n",
       "  <tbody>\n",
       "    <tr>\n",
       "      <th>0</th>\n",
       "      <td>0</td>\n",
       "      <td>10718</td>\n",
       "    </tr>\n",
       "    <tr>\n",
       "      <th>1</th>\n",
       "      <td>24824</td>\n",
       "      <td>0</td>\n",
       "    </tr>\n",
       "  </tbody>\n",
       "</table>\n",
       "</div>"
      ],
      "text/plain": [
       "DEHBDedInnFamily      0      1\n",
       "TEHBDedInnFamily              \n",
       "0                     0  10718\n",
       "1                 24824      0"
      ]
     },
     "execution_count": 21,
     "metadata": {},
     "output_type": "execute_result"
    }
   ],
   "source": [
    "pd.crosstab(df.TEHBDedInnFamily,df.DEHBDedInnFamily)"
   ]
  },
  {
   "cell_type": "code",
   "execution_count": 22,
   "metadata": {},
   "outputs": [
    {
     "data": {
      "text/html": [
       "<div>\n",
       "<style scoped>\n",
       "    .dataframe tbody tr th:only-of-type {\n",
       "        vertical-align: middle;\n",
       "    }\n",
       "\n",
       "    .dataframe tbody tr th {\n",
       "        vertical-align: top;\n",
       "    }\n",
       "\n",
       "    .dataframe thead th {\n",
       "        text-align: right;\n",
       "    }\n",
       "</style>\n",
       "<table border=\"1\" class=\"dataframe\">\n",
       "  <thead>\n",
       "    <tr style=\"text-align: right;\">\n",
       "      <th>MEHBInnIndividualMOOP</th>\n",
       "      <th>0</th>\n",
       "      <th>1</th>\n",
       "      <th>99</th>\n",
       "    </tr>\n",
       "    <tr>\n",
       "      <th>TEHBInnIndividualMOOP</th>\n",
       "      <th></th>\n",
       "      <th></th>\n",
       "      <th></th>\n",
       "    </tr>\n",
       "  </thead>\n",
       "  <tbody>\n",
       "    <tr>\n",
       "      <th>0</th>\n",
       "      <td>0</td>\n",
       "      <td>256</td>\n",
       "      <td>24</td>\n",
       "    </tr>\n",
       "    <tr>\n",
       "      <th>1</th>\n",
       "      <td>35262</td>\n",
       "      <td>0</td>\n",
       "      <td>0</td>\n",
       "    </tr>\n",
       "  </tbody>\n",
       "</table>\n",
       "</div>"
      ],
      "text/plain": [
       "MEHBInnIndividualMOOP     0    1   99\n",
       "TEHBInnIndividualMOOP                \n",
       "0                          0  256  24\n",
       "1                      35262    0   0"
      ]
     },
     "execution_count": 22,
     "metadata": {},
     "output_type": "execute_result"
    }
   ],
   "source": [
    "pd.crosstab(df.TEHBInnIndividualMOOP,df.MEHBInnIndividualMOOP)"
   ]
  },
  {
   "cell_type": "code",
   "execution_count": 23,
   "metadata": {},
   "outputs": [
    {
     "data": {
      "text/html": [
       "<div>\n",
       "<style scoped>\n",
       "    .dataframe tbody tr th:only-of-type {\n",
       "        vertical-align: middle;\n",
       "    }\n",
       "\n",
       "    .dataframe tbody tr th {\n",
       "        vertical-align: top;\n",
       "    }\n",
       "\n",
       "    .dataframe thead th {\n",
       "        text-align: right;\n",
       "    }\n",
       "</style>\n",
       "<table border=\"1\" class=\"dataframe\">\n",
       "  <thead>\n",
       "    <tr style=\"text-align: right;\">\n",
       "      <th>DEHBInnIndividualMOOP</th>\n",
       "      <th>0</th>\n",
       "      <th>1</th>\n",
       "    </tr>\n",
       "    <tr>\n",
       "      <th>TEHBInnIndividualMOOP</th>\n",
       "      <th></th>\n",
       "      <th></th>\n",
       "    </tr>\n",
       "  </thead>\n",
       "  <tbody>\n",
       "    <tr>\n",
       "      <th>0</th>\n",
       "      <td>0</td>\n",
       "      <td>280</td>\n",
       "    </tr>\n",
       "    <tr>\n",
       "      <th>1</th>\n",
       "      <td>35262</td>\n",
       "      <td>0</td>\n",
       "    </tr>\n",
       "  </tbody>\n",
       "</table>\n",
       "</div>"
      ],
      "text/plain": [
       "DEHBInnIndividualMOOP      0    1\n",
       "TEHBInnIndividualMOOP            \n",
       "0                          0  280\n",
       "1                      35262    0"
      ]
     },
     "execution_count": 23,
     "metadata": {},
     "output_type": "execute_result"
    }
   ],
   "source": [
    "pd.crosstab(df.TEHBInnIndividualMOOP,df.DEHBInnIndividualMOOP)"
   ]
  },
  {
   "cell_type": "code",
   "execution_count": 25,
   "metadata": {},
   "outputs": [
    {
     "data": {
      "text/html": [
       "<div>\n",
       "<style scoped>\n",
       "    .dataframe tbody tr th:only-of-type {\n",
       "        vertical-align: middle;\n",
       "    }\n",
       "\n",
       "    .dataframe tbody tr th {\n",
       "        vertical-align: top;\n",
       "    }\n",
       "\n",
       "    .dataframe thead th {\n",
       "        text-align: right;\n",
       "    }\n",
       "</style>\n",
       "<table border=\"1\" class=\"dataframe\">\n",
       "  <thead>\n",
       "    <tr style=\"text-align: right;\">\n",
       "      <th>MEHBInnFamilyMOOP</th>\n",
       "      <th>0</th>\n",
       "      <th>1</th>\n",
       "      <th>99</th>\n",
       "    </tr>\n",
       "    <tr>\n",
       "      <th>TEHBInnFamilyMOOP</th>\n",
       "      <th></th>\n",
       "      <th></th>\n",
       "      <th></th>\n",
       "    </tr>\n",
       "  </thead>\n",
       "  <tbody>\n",
       "    <tr>\n",
       "      <th>0</th>\n",
       "      <td>0</td>\n",
       "      <td>233</td>\n",
       "      <td>213</td>\n",
       "    </tr>\n",
       "    <tr>\n",
       "      <th>1</th>\n",
       "      <td>35096</td>\n",
       "      <td>0</td>\n",
       "      <td>0</td>\n",
       "    </tr>\n",
       "  </tbody>\n",
       "</table>\n",
       "</div>"
      ],
      "text/plain": [
       "MEHBInnFamilyMOOP     0    1    99\n",
       "TEHBInnFamilyMOOP                 \n",
       "0                      0  233  213\n",
       "1                  35096    0    0"
      ]
     },
     "execution_count": 25,
     "metadata": {},
     "output_type": "execute_result"
    }
   ],
   "source": [
    "pd.crosstab(df.TEHBInnFamilyMOOP,df.MEHBInnFamilyMOOP)"
   ]
  },
  {
   "cell_type": "code",
   "execution_count": 26,
   "metadata": {
    "scrolled": true
   },
   "outputs": [
    {
     "data": {
      "text/html": [
       "<div>\n",
       "<style scoped>\n",
       "    .dataframe tbody tr th:only-of-type {\n",
       "        vertical-align: middle;\n",
       "    }\n",
       "\n",
       "    .dataframe tbody tr th {\n",
       "        vertical-align: top;\n",
       "    }\n",
       "\n",
       "    .dataframe thead th {\n",
       "        text-align: right;\n",
       "    }\n",
       "</style>\n",
       "<table border=\"1\" class=\"dataframe\">\n",
       "  <thead>\n",
       "    <tr style=\"text-align: right;\">\n",
       "      <th>DEHBInnFamilyMOOP</th>\n",
       "      <th>0</th>\n",
       "      <th>1</th>\n",
       "    </tr>\n",
       "    <tr>\n",
       "      <th>TEHBInnFamilyMOOP</th>\n",
       "      <th></th>\n",
       "      <th></th>\n",
       "    </tr>\n",
       "  </thead>\n",
       "  <tbody>\n",
       "    <tr>\n",
       "      <th>0</th>\n",
       "      <td>0</td>\n",
       "      <td>446</td>\n",
       "    </tr>\n",
       "    <tr>\n",
       "      <th>1</th>\n",
       "      <td>35096</td>\n",
       "      <td>0</td>\n",
       "    </tr>\n",
       "  </tbody>\n",
       "</table>\n",
       "</div>"
      ],
      "text/plain": [
       "DEHBInnFamilyMOOP      0    1\n",
       "TEHBInnFamilyMOOP            \n",
       "0                      0  446\n",
       "1                  35096    0"
      ]
     },
     "execution_count": 26,
     "metadata": {},
     "output_type": "execute_result"
    }
   ],
   "source": [
    "pd.crosstab(df.TEHBInnFamilyMOOP,df.DEHBInnFamilyMOOP)"
   ]
  },
  {
   "cell_type": "code",
   "execution_count": 27,
   "metadata": {
    "scrolled": false
   },
   "outputs": [
    {
     "data": {
      "text/html": [
       "<div>\n",
       "<style scoped>\n",
       "    .dataframe tbody tr th:only-of-type {\n",
       "        vertical-align: middle;\n",
       "    }\n",
       "\n",
       "    .dataframe tbody tr th {\n",
       "        vertical-align: top;\n",
       "    }\n",
       "\n",
       "    .dataframe thead th {\n",
       "        text-align: right;\n",
       "    }\n",
       "</style>\n",
       "<table border=\"1\" class=\"dataframe\">\n",
       "  <thead>\n",
       "    <tr style=\"text-align: right;\">\n",
       "      <th>MEHBDedOutOfNetIndividual</th>\n",
       "      <th>0</th>\n",
       "      <th>1</th>\n",
       "      <th>2</th>\n",
       "      <th>99</th>\n",
       "    </tr>\n",
       "    <tr>\n",
       "      <th>TEHBDedOutOfNetIndividual</th>\n",
       "      <th></th>\n",
       "      <th></th>\n",
       "      <th></th>\n",
       "      <th></th>\n",
       "    </tr>\n",
       "  </thead>\n",
       "  <tbody>\n",
       "    <tr>\n",
       "      <th>0</th>\n",
       "      <td>0</td>\n",
       "      <td>2376</td>\n",
       "      <td>8345</td>\n",
       "      <td>45</td>\n",
       "    </tr>\n",
       "    <tr>\n",
       "      <th>1</th>\n",
       "      <td>5959</td>\n",
       "      <td>0</td>\n",
       "      <td>0</td>\n",
       "      <td>0</td>\n",
       "    </tr>\n",
       "    <tr>\n",
       "      <th>2</th>\n",
       "      <td>18786</td>\n",
       "      <td>0</td>\n",
       "      <td>0</td>\n",
       "      <td>0</td>\n",
       "    </tr>\n",
       "    <tr>\n",
       "      <th>99</th>\n",
       "      <td>31</td>\n",
       "      <td>0</td>\n",
       "      <td>0</td>\n",
       "      <td>0</td>\n",
       "    </tr>\n",
       "  </tbody>\n",
       "</table>\n",
       "</div>"
      ],
      "text/plain": [
       "MEHBDedOutOfNetIndividual     0     1     2   99\n",
       "TEHBDedOutOfNetIndividual                       \n",
       "0                              0  2376  8345  45\n",
       "1                           5959     0     0   0\n",
       "2                          18786     0     0   0\n",
       "99                            31     0     0   0"
      ]
     },
     "execution_count": 27,
     "metadata": {},
     "output_type": "execute_result"
    }
   ],
   "source": [
    "pd.crosstab(df.TEHBDedOutOfNetIndividual,df.MEHBDedOutOfNetIndividual)"
   ]
  },
  {
   "cell_type": "code",
   "execution_count": 28,
   "metadata": {
    "scrolled": true
   },
   "outputs": [
    {
     "data": {
      "text/html": [
       "<div>\n",
       "<style scoped>\n",
       "    .dataframe tbody tr th:only-of-type {\n",
       "        vertical-align: middle;\n",
       "    }\n",
       "\n",
       "    .dataframe tbody tr th {\n",
       "        vertical-align: top;\n",
       "    }\n",
       "\n",
       "    .dataframe thead th {\n",
       "        text-align: right;\n",
       "    }\n",
       "</style>\n",
       "<table border=\"1\" class=\"dataframe\">\n",
       "  <thead>\n",
       "    <tr style=\"text-align: right;\">\n",
       "      <th>DEHBDedOutOfNetIndividual</th>\n",
       "      <th>0</th>\n",
       "      <th>1</th>\n",
       "      <th>2</th>\n",
       "      <th>99</th>\n",
       "    </tr>\n",
       "    <tr>\n",
       "      <th>TEHBDedOutOfNetIndividual</th>\n",
       "      <th></th>\n",
       "      <th></th>\n",
       "      <th></th>\n",
       "      <th></th>\n",
       "    </tr>\n",
       "  </thead>\n",
       "  <tbody>\n",
       "    <tr>\n",
       "      <th>0</th>\n",
       "      <td>0</td>\n",
       "      <td>1522</td>\n",
       "      <td>9193</td>\n",
       "      <td>51</td>\n",
       "    </tr>\n",
       "    <tr>\n",
       "      <th>1</th>\n",
       "      <td>5959</td>\n",
       "      <td>0</td>\n",
       "      <td>0</td>\n",
       "      <td>0</td>\n",
       "    </tr>\n",
       "    <tr>\n",
       "      <th>2</th>\n",
       "      <td>18786</td>\n",
       "      <td>0</td>\n",
       "      <td>0</td>\n",
       "      <td>0</td>\n",
       "    </tr>\n",
       "    <tr>\n",
       "      <th>99</th>\n",
       "      <td>31</td>\n",
       "      <td>0</td>\n",
       "      <td>0</td>\n",
       "      <td>0</td>\n",
       "    </tr>\n",
       "  </tbody>\n",
       "</table>\n",
       "</div>"
      ],
      "text/plain": [
       "DEHBDedOutOfNetIndividual     0     1     2   99\n",
       "TEHBDedOutOfNetIndividual                       \n",
       "0                              0  1522  9193  51\n",
       "1                           5959     0     0   0\n",
       "2                          18786     0     0   0\n",
       "99                            31     0     0   0"
      ]
     },
     "execution_count": 28,
     "metadata": {},
     "output_type": "execute_result"
    }
   ],
   "source": [
    "pd.crosstab(df.TEHBDedOutOfNetIndividual,df.DEHBDedOutOfNetIndividual)"
   ]
  },
  {
   "cell_type": "code",
   "execution_count": 29,
   "metadata": {
    "scrolled": false
   },
   "outputs": [
    {
     "data": {
      "text/html": [
       "<div>\n",
       "<style scoped>\n",
       "    .dataframe tbody tr th:only-of-type {\n",
       "        vertical-align: middle;\n",
       "    }\n",
       "\n",
       "    .dataframe tbody tr th {\n",
       "        vertical-align: top;\n",
       "    }\n",
       "\n",
       "    .dataframe thead th {\n",
       "        text-align: right;\n",
       "    }\n",
       "</style>\n",
       "<table border=\"1\" class=\"dataframe\">\n",
       "  <thead>\n",
       "    <tr style=\"text-align: right;\">\n",
       "      <th>MEHBDedOutOfNetFamily</th>\n",
       "      <th>0</th>\n",
       "      <th>1</th>\n",
       "      <th>2</th>\n",
       "      <th>99</th>\n",
       "    </tr>\n",
       "    <tr>\n",
       "      <th>TEHBDedOutOfNetFamily</th>\n",
       "      <th></th>\n",
       "      <th></th>\n",
       "      <th></th>\n",
       "      <th></th>\n",
       "    </tr>\n",
       "  </thead>\n",
       "  <tbody>\n",
       "    <tr>\n",
       "      <th>0</th>\n",
       "      <td>0</td>\n",
       "      <td>2302</td>\n",
       "      <td>8203</td>\n",
       "      <td>213</td>\n",
       "    </tr>\n",
       "    <tr>\n",
       "      <th>1</th>\n",
       "      <td>5861</td>\n",
       "      <td>0</td>\n",
       "      <td>0</td>\n",
       "      <td>0</td>\n",
       "    </tr>\n",
       "    <tr>\n",
       "      <th>2</th>\n",
       "      <td>18944</td>\n",
       "      <td>0</td>\n",
       "      <td>0</td>\n",
       "      <td>0</td>\n",
       "    </tr>\n",
       "    <tr>\n",
       "      <th>99</th>\n",
       "      <td>19</td>\n",
       "      <td>0</td>\n",
       "      <td>0</td>\n",
       "      <td>0</td>\n",
       "    </tr>\n",
       "  </tbody>\n",
       "</table>\n",
       "</div>"
      ],
      "text/plain": [
       "MEHBDedOutOfNetFamily     0     1     2    99\n",
       "TEHBDedOutOfNetFamily                        \n",
       "0                          0  2302  8203  213\n",
       "1                       5861     0     0    0\n",
       "2                      18944     0     0    0\n",
       "99                        19     0     0    0"
      ]
     },
     "execution_count": 29,
     "metadata": {},
     "output_type": "execute_result"
    }
   ],
   "source": [
    "pd.crosstab(df.TEHBDedOutOfNetFamily,df.MEHBDedOutOfNetFamily)"
   ]
  },
  {
   "cell_type": "code",
   "execution_count": 30,
   "metadata": {},
   "outputs": [
    {
     "data": {
      "text/html": [
       "<div>\n",
       "<style scoped>\n",
       "    .dataframe tbody tr th:only-of-type {\n",
       "        vertical-align: middle;\n",
       "    }\n",
       "\n",
       "    .dataframe tbody tr th {\n",
       "        vertical-align: top;\n",
       "    }\n",
       "\n",
       "    .dataframe thead th {\n",
       "        text-align: right;\n",
       "    }\n",
       "</style>\n",
       "<table border=\"1\" class=\"dataframe\">\n",
       "  <thead>\n",
       "    <tr style=\"text-align: right;\">\n",
       "      <th>DEHBDedOutOfNetFamily</th>\n",
       "      <th>0</th>\n",
       "      <th>1</th>\n",
       "      <th>2</th>\n",
       "      <th>99</th>\n",
       "    </tr>\n",
       "    <tr>\n",
       "      <th>TEHBDedOutOfNetFamily</th>\n",
       "      <th></th>\n",
       "      <th></th>\n",
       "      <th></th>\n",
       "      <th></th>\n",
       "    </tr>\n",
       "  </thead>\n",
       "  <tbody>\n",
       "    <tr>\n",
       "      <th>0</th>\n",
       "      <td>0</td>\n",
       "      <td>1184</td>\n",
       "      <td>9321</td>\n",
       "      <td>213</td>\n",
       "    </tr>\n",
       "    <tr>\n",
       "      <th>1</th>\n",
       "      <td>5861</td>\n",
       "      <td>0</td>\n",
       "      <td>0</td>\n",
       "      <td>0</td>\n",
       "    </tr>\n",
       "    <tr>\n",
       "      <th>2</th>\n",
       "      <td>18944</td>\n",
       "      <td>0</td>\n",
       "      <td>0</td>\n",
       "      <td>0</td>\n",
       "    </tr>\n",
       "    <tr>\n",
       "      <th>99</th>\n",
       "      <td>19</td>\n",
       "      <td>0</td>\n",
       "      <td>0</td>\n",
       "      <td>0</td>\n",
       "    </tr>\n",
       "  </tbody>\n",
       "</table>\n",
       "</div>"
      ],
      "text/plain": [
       "DEHBDedOutOfNetFamily     0     1     2    99\n",
       "TEHBDedOutOfNetFamily                        \n",
       "0                          0  1184  9321  213\n",
       "1                       5861     0     0    0\n",
       "2                      18944     0     0    0\n",
       "99                        19     0     0    0"
      ]
     },
     "execution_count": 30,
     "metadata": {},
     "output_type": "execute_result"
    }
   ],
   "source": [
    "pd.crosstab(df.TEHBDedOutOfNetFamily,df.DEHBDedOutOfNetFamily)"
   ]
  },
  {
   "cell_type": "code",
   "execution_count": 31,
   "metadata": {},
   "outputs": [
    {
     "data": {
      "text/html": [
       "<div>\n",
       "<style scoped>\n",
       "    .dataframe tbody tr th:only-of-type {\n",
       "        vertical-align: middle;\n",
       "    }\n",
       "\n",
       "    .dataframe tbody tr th {\n",
       "        vertical-align: top;\n",
       "    }\n",
       "\n",
       "    .dataframe thead th {\n",
       "        text-align: right;\n",
       "    }\n",
       "</style>\n",
       "<table border=\"1\" class=\"dataframe\">\n",
       "  <thead>\n",
       "    <tr style=\"text-align: right;\">\n",
       "      <th>MEHBOutOfNetIndividualMOOP</th>\n",
       "      <th>0</th>\n",
       "      <th>1</th>\n",
       "      <th>2</th>\n",
       "      <th>99</th>\n",
       "    </tr>\n",
       "    <tr>\n",
       "      <th>TEHBOutOfNetIndividualMOOP</th>\n",
       "      <th></th>\n",
       "      <th></th>\n",
       "      <th></th>\n",
       "      <th></th>\n",
       "    </tr>\n",
       "  </thead>\n",
       "  <tbody>\n",
       "    <tr>\n",
       "      <th>0</th>\n",
       "      <td>0</td>\n",
       "      <td>75</td>\n",
       "      <td>160</td>\n",
       "      <td>45</td>\n",
       "    </tr>\n",
       "    <tr>\n",
       "      <th>1</th>\n",
       "      <td>5532</td>\n",
       "      <td>0</td>\n",
       "      <td>0</td>\n",
       "      <td>0</td>\n",
       "    </tr>\n",
       "    <tr>\n",
       "      <th>2</th>\n",
       "      <td>29632</td>\n",
       "      <td>0</td>\n",
       "      <td>0</td>\n",
       "      <td>0</td>\n",
       "    </tr>\n",
       "    <tr>\n",
       "      <th>99</th>\n",
       "      <td>98</td>\n",
       "      <td>0</td>\n",
       "      <td>0</td>\n",
       "      <td>0</td>\n",
       "    </tr>\n",
       "  </tbody>\n",
       "</table>\n",
       "</div>"
      ],
      "text/plain": [
       "MEHBOutOfNetIndividualMOOP     0   1    2   99\n",
       "TEHBOutOfNetIndividualMOOP                    \n",
       "0                               0  75  160  45\n",
       "1                            5532   0    0   0\n",
       "2                           29632   0    0   0\n",
       "99                             98   0    0   0"
      ]
     },
     "execution_count": 31,
     "metadata": {},
     "output_type": "execute_result"
    }
   ],
   "source": [
    "pd.crosstab(df.TEHBOutOfNetIndividualMOOP,df.MEHBOutOfNetIndividualMOOP)"
   ]
  },
  {
   "cell_type": "code",
   "execution_count": 32,
   "metadata": {},
   "outputs": [
    {
     "data": {
      "text/html": [
       "<div>\n",
       "<style scoped>\n",
       "    .dataframe tbody tr th:only-of-type {\n",
       "        vertical-align: middle;\n",
       "    }\n",
       "\n",
       "    .dataframe tbody tr th {\n",
       "        vertical-align: top;\n",
       "    }\n",
       "\n",
       "    .dataframe thead th {\n",
       "        text-align: right;\n",
       "    }\n",
       "</style>\n",
       "<table border=\"1\" class=\"dataframe\">\n",
       "  <thead>\n",
       "    <tr style=\"text-align: right;\">\n",
       "      <th>DEHBOutOfNetIndividualMOOP</th>\n",
       "      <th>0</th>\n",
       "      <th>1</th>\n",
       "      <th>2</th>\n",
       "      <th>99</th>\n",
       "    </tr>\n",
       "    <tr>\n",
       "      <th>TEHBOutOfNetIndividualMOOP</th>\n",
       "      <th></th>\n",
       "      <th></th>\n",
       "      <th></th>\n",
       "      <th></th>\n",
       "    </tr>\n",
       "  </thead>\n",
       "  <tbody>\n",
       "    <tr>\n",
       "      <th>0</th>\n",
       "      <td>0</td>\n",
       "      <td>75</td>\n",
       "      <td>160</td>\n",
       "      <td>45</td>\n",
       "    </tr>\n",
       "    <tr>\n",
       "      <th>1</th>\n",
       "      <td>5532</td>\n",
       "      <td>0</td>\n",
       "      <td>0</td>\n",
       "      <td>0</td>\n",
       "    </tr>\n",
       "    <tr>\n",
       "      <th>2</th>\n",
       "      <td>29632</td>\n",
       "      <td>0</td>\n",
       "      <td>0</td>\n",
       "      <td>0</td>\n",
       "    </tr>\n",
       "    <tr>\n",
       "      <th>99</th>\n",
       "      <td>98</td>\n",
       "      <td>0</td>\n",
       "      <td>0</td>\n",
       "      <td>0</td>\n",
       "    </tr>\n",
       "  </tbody>\n",
       "</table>\n",
       "</div>"
      ],
      "text/plain": [
       "DEHBOutOfNetIndividualMOOP     0   1    2   99\n",
       "TEHBOutOfNetIndividualMOOP                    \n",
       "0                               0  75  160  45\n",
       "1                            5532   0    0   0\n",
       "2                           29632   0    0   0\n",
       "99                             98   0    0   0"
      ]
     },
     "execution_count": 32,
     "metadata": {},
     "output_type": "execute_result"
    }
   ],
   "source": [
    "pd.crosstab(df.TEHBOutOfNetIndividualMOOP,df.DEHBOutOfNetIndividualMOOP)"
   ]
  },
  {
   "cell_type": "code",
   "execution_count": 33,
   "metadata": {},
   "outputs": [
    {
     "data": {
      "text/html": [
       "<div>\n",
       "<style scoped>\n",
       "    .dataframe tbody tr th:only-of-type {\n",
       "        vertical-align: middle;\n",
       "    }\n",
       "\n",
       "    .dataframe tbody tr th {\n",
       "        vertical-align: top;\n",
       "    }\n",
       "\n",
       "    .dataframe thead th {\n",
       "        text-align: right;\n",
       "    }\n",
       "</style>\n",
       "<table border=\"1\" class=\"dataframe\">\n",
       "  <thead>\n",
       "    <tr style=\"text-align: right;\">\n",
       "      <th>MEHBOutOfNetFamilyMOOP</th>\n",
       "      <th>0</th>\n",
       "      <th>1</th>\n",
       "      <th>2</th>\n",
       "      <th>99</th>\n",
       "    </tr>\n",
       "    <tr>\n",
       "      <th>TEHBOutOfNetFamilyMOOP</th>\n",
       "      <th></th>\n",
       "      <th></th>\n",
       "      <th></th>\n",
       "      <th></th>\n",
       "    </tr>\n",
       "  </thead>\n",
       "  <tbody>\n",
       "    <tr>\n",
       "      <th>0</th>\n",
       "      <td>0</td>\n",
       "      <td>67</td>\n",
       "      <td>158</td>\n",
       "      <td>221</td>\n",
       "    </tr>\n",
       "    <tr>\n",
       "      <th>1</th>\n",
       "      <td>5532</td>\n",
       "      <td>0</td>\n",
       "      <td>0</td>\n",
       "      <td>0</td>\n",
       "    </tr>\n",
       "    <tr>\n",
       "      <th>2</th>\n",
       "      <td>29545</td>\n",
       "      <td>0</td>\n",
       "      <td>0</td>\n",
       "      <td>0</td>\n",
       "    </tr>\n",
       "    <tr>\n",
       "      <th>99</th>\n",
       "      <td>19</td>\n",
       "      <td>0</td>\n",
       "      <td>0</td>\n",
       "      <td>0</td>\n",
       "    </tr>\n",
       "  </tbody>\n",
       "</table>\n",
       "</div>"
      ],
      "text/plain": [
       "MEHBOutOfNetFamilyMOOP     0   1    2    99\n",
       "TEHBOutOfNetFamilyMOOP                     \n",
       "0                           0  67  158  221\n",
       "1                        5532   0    0    0\n",
       "2                       29545   0    0    0\n",
       "99                         19   0    0    0"
      ]
     },
     "execution_count": 33,
     "metadata": {},
     "output_type": "execute_result"
    }
   ],
   "source": [
    "pd.crosstab(df.TEHBOutOfNetFamilyMOOP,df.MEHBOutOfNetFamilyMOOP)"
   ]
  },
  {
   "cell_type": "code",
   "execution_count": 34,
   "metadata": {
    "scrolled": false
   },
   "outputs": [
    {
     "data": {
      "text/html": [
       "<div>\n",
       "<style scoped>\n",
       "    .dataframe tbody tr th:only-of-type {\n",
       "        vertical-align: middle;\n",
       "    }\n",
       "\n",
       "    .dataframe tbody tr th {\n",
       "        vertical-align: top;\n",
       "    }\n",
       "\n",
       "    .dataframe thead th {\n",
       "        text-align: right;\n",
       "    }\n",
       "</style>\n",
       "<table border=\"1\" class=\"dataframe\">\n",
       "  <thead>\n",
       "    <tr style=\"text-align: right;\">\n",
       "      <th>DEHBOutOfNetFamilyMOOP</th>\n",
       "      <th>0</th>\n",
       "      <th>1</th>\n",
       "      <th>2</th>\n",
       "      <th>99</th>\n",
       "    </tr>\n",
       "    <tr>\n",
       "      <th>TEHBOutOfNetFamilyMOOP</th>\n",
       "      <th></th>\n",
       "      <th></th>\n",
       "      <th></th>\n",
       "      <th></th>\n",
       "    </tr>\n",
       "  </thead>\n",
       "  <tbody>\n",
       "    <tr>\n",
       "      <th>0</th>\n",
       "      <td>0</td>\n",
       "      <td>75</td>\n",
       "      <td>158</td>\n",
       "      <td>213</td>\n",
       "    </tr>\n",
       "    <tr>\n",
       "      <th>1</th>\n",
       "      <td>5532</td>\n",
       "      <td>0</td>\n",
       "      <td>0</td>\n",
       "      <td>0</td>\n",
       "    </tr>\n",
       "    <tr>\n",
       "      <th>2</th>\n",
       "      <td>29545</td>\n",
       "      <td>0</td>\n",
       "      <td>0</td>\n",
       "      <td>0</td>\n",
       "    </tr>\n",
       "    <tr>\n",
       "      <th>99</th>\n",
       "      <td>19</td>\n",
       "      <td>0</td>\n",
       "      <td>0</td>\n",
       "      <td>0</td>\n",
       "    </tr>\n",
       "  </tbody>\n",
       "</table>\n",
       "</div>"
      ],
      "text/plain": [
       "DEHBOutOfNetFamilyMOOP     0   1    2    99\n",
       "TEHBOutOfNetFamilyMOOP                     \n",
       "0                           0  75  158  213\n",
       "1                        5532   0    0    0\n",
       "2                       29545   0    0    0\n",
       "99                         19   0    0    0"
      ]
     },
     "execution_count": 34,
     "metadata": {},
     "output_type": "execute_result"
    }
   ],
   "source": [
    "pd.crosstab(df.TEHBOutOfNetFamilyMOOP,df.DEHBOutOfNetFamilyMOOP)"
   ]
  },
  {
   "cell_type": "code",
   "execution_count": null,
   "metadata": {},
   "outputs": [],
   "source": []
  },
  {
   "cell_type": "code",
   "execution_count": null,
   "metadata": {},
   "outputs": [],
   "source": []
  },
  {
   "cell_type": "code",
   "execution_count": null,
   "metadata": {},
   "outputs": [],
   "source": []
  },
  {
   "cell_type": "code",
   "execution_count": null,
   "metadata": {},
   "outputs": [],
   "source": []
  },
  {
   "cell_type": "code",
   "execution_count": null,
   "metadata": {},
   "outputs": [],
   "source": [
    "df.groupby(df['TIERED']==1)[''].count()"
   ]
  },
  {
   "cell_type": "markdown",
   "metadata": {},
   "source": [
    "#### Unique Plans "
   ]
  },
  {
   "cell_type": "code",
   "execution_count": null,
   "metadata": {},
   "outputs": [],
   "source": [
    "len(df)"
   ]
  },
  {
   "cell_type": "markdown",
   "metadata": {},
   "source": [
    "#### Check On and Off overlap"
   ]
  }
 ],
 "metadata": {
  "kernelspec": {
   "display_name": "Python 3",
   "language": "python",
   "name": "python3"
  },
  "language_info": {
   "codemirror_mode": {
    "name": "ipython",
    "version": 3
   },
   "file_extension": ".py",
   "mimetype": "text/x-python",
   "name": "python",
   "nbconvert_exporter": "python",
   "pygments_lexer": "ipython3",
   "version": "3.6.5"
  }
 },
 "nbformat": 4,
 "nbformat_minor": 2
}
